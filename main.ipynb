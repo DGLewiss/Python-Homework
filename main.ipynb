{
 "cells": [
  {
   "cell_type": "code",
   "execution_count": 85,
   "metadata": {
    "tags": []
   },
   "outputs": [
    {
     "name": "stdout",
     "output_type": "stream",
     "text": [
      "Financial Analysis\n",
      "---------------------------\n",
      "Total Months: 86\n",
      "Total Profit/Losses: $38,382,578.00\n",
      "Average Change: $446,309.05\n",
      "Greatest Increase in Profits: Feb-2012 ($1170593)\n",
      "Greatest Decrease in Losses: Sep-2013 ($-1196225)\n"
     ]
    }
   ],
   "source": [
    "\"\"\"\n",
    "Module 2 Challenge - PyBank\n",
    "\n",
    "This scirpt demonstrates financial performance from Budget_data.csv to determine the most\n",
    "successful months, least successful months, net profits for the period and average monthly\n",
    "performance. \n",
    "\"\"\"\n",
    "\n",
    "#Import the CSV to read budget data\n",
    "import csv\n",
    "\n",
    "#assign the imported csv to the variable month_pnl\n",
    "month_pnl = \"budget_data.csv\"\n",
    "\n",
    "#create two empty lists to store data from imported CSV\n",
    "months = []\n",
    "profits = []\n",
    "\n",
    "#read month_pnl and assigns data to months and profits\n",
    "with open(month_pnl, 'r') as file:\n",
    "    reader = csv.reader(file)\n",
    "    next(reader) #skip the headings in CSV\n",
    "    for row in reader:\n",
    "        months.append(row[0]) #append months to months list\n",
    "        profits.append(int(row[1])) #append profit/losses to the profits list\n",
    "\n",
    "#calculate net number of months\n",
    "total_months = len(months)\n",
    "\n",
    "# Calculate net total amount of Profit/Losses over the entire period\n",
    "net_total = sum(profits)\n",
    "\n",
    "# The average change in Profit/Losses over the entire period\n",
    "average_change = net_total / total_months\n",
    "\n",
    "#Calculate best month\n",
    "max_increase = max(profits)\n",
    "max_increase_index = profits.index(max_increase)\n",
    "best_month = months[max_increase_index] \n",
    "best_increase = f\"{best_month} (${max_increase})\"\n",
    "\n",
    "# Calculate worst months\n",
    "max_decrease = min(profits)\n",
    "max_decrease_index = profits.index(max_decrease)\n",
    "worst_month = months[max_decrease_index]\n",
    "worst_decrease = f\"{worst_month} (${max_decrease})\"\n",
    "\n",
    "#Print the outcomes\n",
    "print(\"Financial Analysis\")\n",
    "print(\"---------------------------\")\n",
    "print(\"Total Months:\", total_months)\n",
    "print(\"Total Profit/Losses: $\" + format(net_total, \",.2f\")) # format $ and two decimal places with \",\" for thousands seperation\n",
    "print(\"Average Change: $\" + format(average_change, \",.2f\")) # format $ and two decimal places with \",\" for thousands seperation\n",
    "print(\"Greatest Increase in Profits:\", best_increase)\n",
    "print(\"Greatest Decrease in Losses:\", worst_decrease)"
   ]
  },
  {
   "cell_type": "code",
   "execution_count": null,
   "metadata": {},
   "outputs": [],
   "source": []
  }
 ],
 "metadata": {
  "kernelspec": {
   "display_name": "Python 3 (ipykernel)",
   "language": "python",
   "name": "python3"
  },
  "language_info": {
   "codemirror_mode": {
    "name": "ipython",
    "version": 3
   },
   "file_extension": ".py",
   "mimetype": "text/x-python",
   "name": "python",
   "nbconvert_exporter": "python",
   "pygments_lexer": "ipython3",
   "version": "3.10.11"
  }
 },
 "nbformat": 4,
 "nbformat_minor": 4
}
